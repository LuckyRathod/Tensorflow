{
 "cells": [
  {
   "cell_type": "code",
   "execution_count": 1,
   "metadata": {},
   "outputs": [],
   "source": [
    "import numpy as np\n",
    "import matplotlib.pyplot as plt\n",
    "%matplotlib inline"
   ]
  },
  {
   "cell_type": "markdown",
   "metadata": {},
   "source": [
    "## Create Some Data"
   ]
  },
  {
   "cell_type": "code",
   "execution_count": 2,
   "metadata": {},
   "outputs": [
    {
     "data": {
      "text/plain": [
       "(array([[  0.99429187,   0.87511711,  -9.99909683],\n",
       "        [  0.65761885,   0.91624771, -10.18458517],\n",
       "        [ -6.48804352,   3.29034852,   6.73159871],\n",
       "        [  0.5815206 ,   2.06249948,  -9.07157495],\n",
       "        [ -7.42442678,   5.30835517,   6.86341624],\n",
       "        [  2.26790487,   0.40816482, -10.17230518],\n",
       "        [  1.62073713,  -0.05416228,  -9.92461083],\n",
       "        [  2.41199108,   1.03683306,  -9.20017913],\n",
       "        [ -7.62441747,   5.87096075,   5.41069708],\n",
       "        [ -7.34160752,   3.671108  ,   7.36634568],\n",
       "        [ -7.56358517,   3.5736335 ,   5.34284552],\n",
       "        [  2.22972735,   1.6514787 ,  -7.43386319],\n",
       "        [ -0.75249891,   2.31574949,  -9.26873428],\n",
       "        [  0.54946324,   0.5581557 ,  -7.88852506],\n",
       "        [ -0.4308995 ,   0.48011452,  -8.47545896],\n",
       "        [ -1.19436032,   2.54705473,  -8.90232874],\n",
       "        [ -0.06318407,   2.4416449 , -11.40312057],\n",
       "        [ -6.70999871,   3.8246846 ,   7.34365184],\n",
       "        [  1.32054601,   2.60559237, -10.47729501],\n",
       "        [  0.15391601,   2.19349145,  -9.8137736 ],\n",
       "        [  0.32833903,   2.43933589,  -9.58711337],\n",
       "        [ -7.01543966,   4.3914134 ,   9.46294692],\n",
       "        [  0.16543782,   1.89916047,  -9.03802666],\n",
       "        [  0.7185004 ,   1.58025637,  -9.24601361],\n",
       "        [ -7.65700277,   1.13777271,   7.33896645],\n",
       "        [ -7.12044288,   4.64758461,   5.7025879 ],\n",
       "        [  1.93475242,   0.29764177, -10.81589403],\n",
       "        [ -6.4220804 ,   2.9760733 ,   5.9578275 ],\n",
       "        [ -7.39003004,   2.67596248,   5.15308172],\n",
       "        [ -7.03832316,   4.56563667,   6.9080243 ],\n",
       "        [ -4.07557669,   3.15827975,   7.17466421],\n",
       "        [ -0.61543385,   1.89810338,  -9.54728879],\n",
       "        [  0.9339379 ,  -0.60481651,  -8.69039341],\n",
       "        [ -4.81755245,   4.40108636,   6.83159809],\n",
       "        [  0.57115017,   2.27751662, -10.99144692],\n",
       "        [ -1.0016875 ,   1.45481168,  -9.84157087],\n",
       "        [  1.7353108 ,   2.05515725, -10.33561537],\n",
       "        [ -8.68467997,   3.42602942,   7.74064767],\n",
       "        [  0.9790905 ,   1.09403369, -10.27859245],\n",
       "        [ -5.79759684,   3.99975626,   5.28641819],\n",
       "        [  2.44569994,   1.61087572,  -7.12752821],\n",
       "        [  1.81046805,   2.37480989, -11.57172776],\n",
       "        [ -6.24790729,   4.71286377,   7.00772091],\n",
       "        [ -8.20249087,   4.507669  ,   5.01040047],\n",
       "        [  1.00918185,   2.44847681,  -9.46167595],\n",
       "        [ -6.78887759,   3.65986315,   6.69035824],\n",
       "        [  0.51876688,   3.39210906,  -6.82454819],\n",
       "        [ -8.40882774,   4.56913524,   5.60134675],\n",
       "        [ -0.44335605,   1.52382915, -10.23516698],\n",
       "        [ -5.24785153,   4.49966814,   8.03764923],\n",
       "        [ -6.13431395,   4.96544332,   6.2300389 ],\n",
       "        [ -1.37811338,   0.25423232,  -9.56535619],\n",
       "        [  0.29639341,   2.06317757,  -7.27566903],\n",
       "        [ -6.17610612,   3.075033  ,   5.27964757],\n",
       "        [ -0.53891248,   2.13413934, -10.65359751],\n",
       "        [ -5.43954882,   4.60333595,   7.00880287],\n",
       "        [  0.85678605,   0.8243512 ,  -9.24182016],\n",
       "        [ -0.65480344,   3.64490698, -10.40190804],\n",
       "        [ -6.05573415,   2.7773348 ,   7.52484115],\n",
       "        [ -0.80584461,   2.02382964,  -9.04448516],\n",
       "        [ -0.2822863 ,   0.6580264 ,  -9.77693397],\n",
       "        [ -5.66674102,   3.16763048,   5.12826615],\n",
       "        [  1.35278283,   0.48747748,  -7.56765133],\n",
       "        [ -6.47593889,   4.94635225,   5.58024423],\n",
       "        [ -6.86800262,   3.73468111,   7.56696814],\n",
       "        [ -6.65886532,   4.40410604,   5.26881157],\n",
       "        [ -7.14994986,   4.91456692,   7.87968128],\n",
       "        [  1.05699629,   0.55026047,  -9.12488396],\n",
       "        [  0.51509708,   0.68050659, -10.81343557],\n",
       "        [ -5.53765102,   2.62442136,   6.67758229],\n",
       "        [ -5.69865986,   5.29135203,   7.60759509],\n",
       "        [  1.16100188,   2.38907142,  -9.81875417],\n",
       "        [  0.47499933,   0.9339037 ,  -8.87174606],\n",
       "        [ -9.30656147,   5.22810174,   6.85594634],\n",
       "        [  1.1112886 ,   0.704398  ,  -8.84366818],\n",
       "        [ -6.16198043,   4.51338238,   3.94147281],\n",
       "        [ -7.80518114,   2.90711167,   7.43205869],\n",
       "        [  0.0760756 ,   0.83523148,  -9.19351984],\n",
       "        [  0.52875302,   1.74119648,  -8.75603028],\n",
       "        [ -5.95090888,   1.65297671,   6.51129114],\n",
       "        [ -5.96070958,   3.99201262,   6.47214495],\n",
       "        [ -5.04581642,   4.99576956,   5.19961789],\n",
       "        [ -7.37241005,   3.45206025,   6.768636  ],\n",
       "        [ -6.78944842,   3.99833476,   7.51229177],\n",
       "        [ -7.55471973,   3.55026388,   5.66470924],\n",
       "        [ -0.66529095,   1.61015124, -10.56716006],\n",
       "        [ -4.54002269,   2.65918125,   5.37145495],\n",
       "        [ -1.3503111 ,   1.74732484,  -9.962986  ],\n",
       "        [  1.01148144,   1.71601719,  -7.73679255],\n",
       "        [ -8.4775757 ,   3.32543613,   5.01187807],\n",
       "        [ -1.29337527,   2.09088685,  -9.40440999],\n",
       "        [ -6.35533268,   3.46502969,   5.25698778],\n",
       "        [ -0.08134593,   1.75689092,  -9.23424015],\n",
       "        [  1.13567847,   1.48631141,  -8.79172846],\n",
       "        [ -6.40192863,   2.93960956,   7.64023642],\n",
       "        [ -6.85482364,   5.79607878,   7.6819934 ],\n",
       "        [ -7.63261577,   3.58015883,   5.73234913],\n",
       "        [ -6.90248768,   2.77693736,   8.39388742],\n",
       "        [ -6.3033601 ,   4.1181198 ,   7.6667101 ],\n",
       "        [ -7.19637228,   3.31445067,   8.4214142 ]]),\n",
       " array([0, 0, 1, 0, 1, 0, 0, 0, 1, 1, 1, 0, 0, 0, 0, 0, 0, 1, 0, 0, 0, 1,\n",
       "        0, 0, 1, 1, 0, 1, 1, 1, 1, 0, 0, 1, 0, 0, 0, 1, 0, 1, 0, 0, 1, 1,\n",
       "        0, 1, 0, 1, 0, 1, 1, 0, 0, 1, 0, 1, 0, 0, 1, 0, 0, 1, 0, 1, 1, 1,\n",
       "        1, 0, 0, 1, 1, 0, 0, 1, 0, 1, 1, 0, 0, 1, 1, 1, 1, 1, 1, 0, 1, 0,\n",
       "        0, 1, 0, 1, 0, 0, 1, 1, 1, 1, 1, 1]))"
      ]
     },
     "execution_count": 2,
     "metadata": {},
     "output_type": "execute_result"
    }
   ],
   "source": [
    "# make_blobs create a classification data sets for you \n",
    "from sklearn.datasets import make_blobs\n",
    "# centers - No of classes you want\n",
    "data = make_blobs(n_samples=100, n_features=3,centers=2,random_state=101)\n",
    "data"
   ]
  },
  {
   "cell_type": "code",
   "execution_count": 3,
   "metadata": {},
   "outputs": [
    {
     "data": {
      "text/plain": [
       "array([[  0.99429187,   0.87511711,  -9.99909683],\n",
       "       [  0.65761885,   0.91624771, -10.18458517],\n",
       "       [ -6.48804352,   3.29034852,   6.73159871],\n",
       "       [  0.5815206 ,   2.06249948,  -9.07157495],\n",
       "       [ -7.42442678,   5.30835517,   6.86341624],\n",
       "       [  2.26790487,   0.40816482, -10.17230518],\n",
       "       [  1.62073713,  -0.05416228,  -9.92461083],\n",
       "       [  2.41199108,   1.03683306,  -9.20017913],\n",
       "       [ -7.62441747,   5.87096075,   5.41069708],\n",
       "       [ -7.34160752,   3.671108  ,   7.36634568],\n",
       "       [ -7.56358517,   3.5736335 ,   5.34284552],\n",
       "       [  2.22972735,   1.6514787 ,  -7.43386319],\n",
       "       [ -0.75249891,   2.31574949,  -9.26873428],\n",
       "       [  0.54946324,   0.5581557 ,  -7.88852506],\n",
       "       [ -0.4308995 ,   0.48011452,  -8.47545896],\n",
       "       [ -1.19436032,   2.54705473,  -8.90232874],\n",
       "       [ -0.06318407,   2.4416449 , -11.40312057],\n",
       "       [ -6.70999871,   3.8246846 ,   7.34365184],\n",
       "       [  1.32054601,   2.60559237, -10.47729501],\n",
       "       [  0.15391601,   2.19349145,  -9.8137736 ],\n",
       "       [  0.32833903,   2.43933589,  -9.58711337],\n",
       "       [ -7.01543966,   4.3914134 ,   9.46294692],\n",
       "       [  0.16543782,   1.89916047,  -9.03802666],\n",
       "       [  0.7185004 ,   1.58025637,  -9.24601361],\n",
       "       [ -7.65700277,   1.13777271,   7.33896645],\n",
       "       [ -7.12044288,   4.64758461,   5.7025879 ],\n",
       "       [  1.93475242,   0.29764177, -10.81589403],\n",
       "       [ -6.4220804 ,   2.9760733 ,   5.9578275 ],\n",
       "       [ -7.39003004,   2.67596248,   5.15308172],\n",
       "       [ -7.03832316,   4.56563667,   6.9080243 ],\n",
       "       [ -4.07557669,   3.15827975,   7.17466421],\n",
       "       [ -0.61543385,   1.89810338,  -9.54728879],\n",
       "       [  0.9339379 ,  -0.60481651,  -8.69039341],\n",
       "       [ -4.81755245,   4.40108636,   6.83159809],\n",
       "       [  0.57115017,   2.27751662, -10.99144692],\n",
       "       [ -1.0016875 ,   1.45481168,  -9.84157087],\n",
       "       [  1.7353108 ,   2.05515725, -10.33561537],\n",
       "       [ -8.68467997,   3.42602942,   7.74064767],\n",
       "       [  0.9790905 ,   1.09403369, -10.27859245],\n",
       "       [ -5.79759684,   3.99975626,   5.28641819],\n",
       "       [  2.44569994,   1.61087572,  -7.12752821],\n",
       "       [  1.81046805,   2.37480989, -11.57172776],\n",
       "       [ -6.24790729,   4.71286377,   7.00772091],\n",
       "       [ -8.20249087,   4.507669  ,   5.01040047],\n",
       "       [  1.00918185,   2.44847681,  -9.46167595],\n",
       "       [ -6.78887759,   3.65986315,   6.69035824],\n",
       "       [  0.51876688,   3.39210906,  -6.82454819],\n",
       "       [ -8.40882774,   4.56913524,   5.60134675],\n",
       "       [ -0.44335605,   1.52382915, -10.23516698],\n",
       "       [ -5.24785153,   4.49966814,   8.03764923],\n",
       "       [ -6.13431395,   4.96544332,   6.2300389 ],\n",
       "       [ -1.37811338,   0.25423232,  -9.56535619],\n",
       "       [  0.29639341,   2.06317757,  -7.27566903],\n",
       "       [ -6.17610612,   3.075033  ,   5.27964757],\n",
       "       [ -0.53891248,   2.13413934, -10.65359751],\n",
       "       [ -5.43954882,   4.60333595,   7.00880287],\n",
       "       [  0.85678605,   0.8243512 ,  -9.24182016],\n",
       "       [ -0.65480344,   3.64490698, -10.40190804],\n",
       "       [ -6.05573415,   2.7773348 ,   7.52484115],\n",
       "       [ -0.80584461,   2.02382964,  -9.04448516],\n",
       "       [ -0.2822863 ,   0.6580264 ,  -9.77693397],\n",
       "       [ -5.66674102,   3.16763048,   5.12826615],\n",
       "       [  1.35278283,   0.48747748,  -7.56765133],\n",
       "       [ -6.47593889,   4.94635225,   5.58024423],\n",
       "       [ -6.86800262,   3.73468111,   7.56696814],\n",
       "       [ -6.65886532,   4.40410604,   5.26881157],\n",
       "       [ -7.14994986,   4.91456692,   7.87968128],\n",
       "       [  1.05699629,   0.55026047,  -9.12488396],\n",
       "       [  0.51509708,   0.68050659, -10.81343557],\n",
       "       [ -5.53765102,   2.62442136,   6.67758229],\n",
       "       [ -5.69865986,   5.29135203,   7.60759509],\n",
       "       [  1.16100188,   2.38907142,  -9.81875417],\n",
       "       [  0.47499933,   0.9339037 ,  -8.87174606],\n",
       "       [ -9.30656147,   5.22810174,   6.85594634],\n",
       "       [  1.1112886 ,   0.704398  ,  -8.84366818],\n",
       "       [ -6.16198043,   4.51338238,   3.94147281],\n",
       "       [ -7.80518114,   2.90711167,   7.43205869],\n",
       "       [  0.0760756 ,   0.83523148,  -9.19351984],\n",
       "       [  0.52875302,   1.74119648,  -8.75603028],\n",
       "       [ -5.95090888,   1.65297671,   6.51129114],\n",
       "       [ -5.96070958,   3.99201262,   6.47214495],\n",
       "       [ -5.04581642,   4.99576956,   5.19961789],\n",
       "       [ -7.37241005,   3.45206025,   6.768636  ],\n",
       "       [ -6.78944842,   3.99833476,   7.51229177],\n",
       "       [ -7.55471973,   3.55026388,   5.66470924],\n",
       "       [ -0.66529095,   1.61015124, -10.56716006],\n",
       "       [ -4.54002269,   2.65918125,   5.37145495],\n",
       "       [ -1.3503111 ,   1.74732484,  -9.962986  ],\n",
       "       [  1.01148144,   1.71601719,  -7.73679255],\n",
       "       [ -8.4775757 ,   3.32543613,   5.01187807],\n",
       "       [ -1.29337527,   2.09088685,  -9.40440999],\n",
       "       [ -6.35533268,   3.46502969,   5.25698778],\n",
       "       [ -0.08134593,   1.75689092,  -9.23424015],\n",
       "       [  1.13567847,   1.48631141,  -8.79172846],\n",
       "       [ -6.40192863,   2.93960956,   7.64023642],\n",
       "       [ -6.85482364,   5.79607878,   7.6819934 ],\n",
       "       [ -7.63261577,   3.58015883,   5.73234913],\n",
       "       [ -6.90248768,   2.77693736,   8.39388742],\n",
       "       [ -6.3033601 ,   4.1181198 ,   7.6667101 ],\n",
       "       [ -7.19637228,   3.31445067,   8.4214142 ]])"
      ]
     },
     "execution_count": 3,
     "metadata": {},
     "output_type": "execute_result"
    }
   ],
   "source": [
    "# 0 - Actual Data\n",
    "data[0]"
   ]
  },
  {
   "cell_type": "code",
   "execution_count": 4,
   "metadata": {},
   "outputs": [
    {
     "data": {
      "text/plain": [
       "array([0, 0, 1, 0, 1, 0, 0, 0, 1, 1, 1, 0, 0, 0, 0, 0, 0, 1, 0, 0, 0, 1,\n",
       "       0, 0, 1, 1, 0, 1, 1, 1, 1, 0, 0, 1, 0, 0, 0, 1, 0, 1, 0, 0, 1, 1,\n",
       "       0, 1, 0, 1, 0, 1, 1, 0, 0, 1, 0, 1, 0, 0, 1, 0, 0, 1, 0, 1, 1, 1,\n",
       "       1, 0, 0, 1, 1, 0, 0, 1, 0, 1, 1, 0, 0, 1, 1, 1, 1, 1, 1, 0, 1, 0,\n",
       "       0, 1, 0, 1, 0, 0, 1, 1, 1, 1, 1, 1])"
      ]
     },
     "execution_count": 4,
     "metadata": {},
     "output_type": "execute_result"
    }
   ],
   "source": [
    "# 1 - Labels\n",
    "data[1]"
   ]
  },
  {
   "cell_type": "markdown",
   "metadata": {},
   "source": [
    "## Scale Data\n",
    "\n"
   ]
  },
  {
   "cell_type": "code",
   "execution_count": 6,
   "metadata": {},
   "outputs": [
    {
     "data": {
      "text/plain": [
       "array([[0.87649968, 0.22853374, 0.07476374],\n",
       "       [0.84785217, 0.2348852 , 0.06594552],\n",
       "       [0.23982771, 0.60149768, 0.8701502 ],\n",
       "       [0.84137697, 0.41189125, 0.11885864],\n",
       "       [0.16015085, 0.91312154, 0.87641688],\n",
       "       [0.98487142, 0.15642622, 0.06652932],\n",
       "       [0.92980391, 0.08503292, 0.07830484],\n",
       "       [0.99713171, 0.25350618, 0.11274473],\n",
       "       [0.14313364, 1.        , 0.80735381],\n",
       "       [0.16719794, 0.66029518, 0.90032642],\n",
       "       [0.14830987, 0.64524301, 0.80412811],\n",
       "       [0.98162289, 0.34842076, 0.19671636],\n",
       "       [0.72786524, 0.45099853, 0.10948558],\n",
       "       [0.83864921, 0.17958805, 0.17510148],\n",
       "       [0.75523013, 0.1675368 , 0.14719832],\n",
       "       [0.69026725, 0.48671705, 0.1269047 ],\n",
       "       [0.78651904, 0.4704395 , 0.00801568],\n",
       "       [0.22094154, 0.68401073, 0.89924755],\n",
       "       [0.90426064, 0.49575653, 0.05202993],\n",
       "       [0.80499209, 0.43211924, 0.08357411],\n",
       "       [0.81983375, 0.47008294, 0.09434966],\n",
       "       [0.19495157, 0.7715259 , 1.        ],\n",
       "       [0.80597248, 0.38666818, 0.12045354],\n",
       "       [0.85303258, 0.33742249, 0.11056573],\n",
       "       [0.14036096, 0.26909345, 0.8990248 ],\n",
       "       [0.18601685, 0.81108428, 0.82123046],\n",
       "       [0.95652347, 0.13935907, 0.03593275],\n",
       "       [0.24544051, 0.5529668 , 0.8333647 ],\n",
       "       [0.16307767, 0.5066232 , 0.79510664],\n",
       "       [0.19300441, 0.79842974, 0.87853757],\n",
       "       [0.44510453, 0.58110341, 0.89121378],\n",
       "       [0.73952811, 0.38650494, 0.09624294],\n",
       "       [0.87136416, 0.        , 0.13698022],\n",
       "       [0.38196981, 0.77301962, 0.87490423],\n",
       "       [0.84049455, 0.44509454, 0.02758687],\n",
       "       [0.70666178, 0.31805112, 0.08225261],\n",
       "       [0.93955298, 0.41075745, 0.05876546],\n",
       "       [0.0529159 , 0.62244975, 0.91812095],\n",
       "       [0.87520619, 0.2623392 , 0.06147636],\n",
       "       [0.29857782, 0.71104558, 0.80144553],\n",
       "       [1.        , 0.34215078, 0.21127969],\n",
       "       [0.94594811, 0.46011873, 0.        ],\n",
       "       [0.2602609 , 0.82116479, 0.88327721],\n",
       "       [0.09394537, 0.78947828, 0.78832349],\n",
       "       [0.87776667, 0.47149449, 0.10031302],\n",
       "       [0.21422974, 0.65855873, 0.86818961],\n",
       "       [0.83603725, 0.61721171, 0.22568353],\n",
       "       [0.07638817, 0.79897   , 0.8164174 ],\n",
       "       [0.75417021, 0.32870891, 0.06354083],\n",
       "       [0.34535566, 0.78824278, 0.93224056],\n",
       "       [0.26992656, 0.86016853, 0.84630578],\n",
       "       [0.6746317 , 0.13265571, 0.09538401],\n",
       "       [0.81711549, 0.41199596, 0.20423699],\n",
       "       [0.26637047, 0.56824831, 0.80112365],\n",
       "       [0.74603931, 0.42295399, 0.04364842],\n",
       "       [0.32904413, 0.80425133, 0.88332864],\n",
       "       [0.86479931, 0.22069439, 0.11076509],\n",
       "       [0.73617815, 0.65624918, 0.05561387],\n",
       "       [0.27661292, 0.52227728, 0.90786139],\n",
       "       [0.72332605, 0.40591979, 0.1201465 ],\n",
       "       [0.76787563, 0.19501024, 0.08532548],\n",
       "       [0.30971235, 0.58254737, 0.79392689],\n",
       "       [0.90700368, 0.1686738 , 0.190356  ],\n",
       "       [0.24085769, 0.85722046, 0.81541418],\n",
       "       [0.20749699, 0.67011224, 0.90986413],\n",
       "       [0.22529248, 0.77348592, 0.8006085 ],\n",
       "       [0.1835061 , 0.85231212, 0.92473068],\n",
       "       [0.8818352 , 0.17836886, 0.1163243 ],\n",
       "       [0.83572499, 0.19848167, 0.03604963],\n",
       "       [0.32069662, 0.49866413, 0.86758223],\n",
       "       [0.30699637, 0.91049588, 0.91179555],\n",
       "       [0.89068503, 0.46232102, 0.08333733],\n",
       "       [0.83231307, 0.23761166, 0.12835861],\n",
       "       [0.        , 0.90072867, 0.87606176],\n",
       "       [0.88645493, 0.20217102, 0.12969345],\n",
       "       [0.26757242, 0.79036055, 0.73750608],\n",
       "       [0.12775246, 0.54231763, 0.90345046],\n",
       "       [0.79836865, 0.22237454, 0.11306131],\n",
       "       [0.83688697, 0.36227512, 0.13385981],\n",
       "       [0.2855325 , 0.34865208, 0.85967666],\n",
       "       [0.28469856, 0.70984979, 0.85781563],\n",
       "       [0.36254682, 0.86485156, 0.79731899],\n",
       "       [0.16457696, 0.62646947, 0.87191098],\n",
       "       [0.21418117, 0.71082607, 0.90726478],\n",
       "       [0.14906423, 0.64163424, 0.81942969],\n",
       "       [0.73528577, 0.3420389 , 0.0477577 ],\n",
       "       [0.40558482, 0.50403181, 0.80548822],\n",
       "       [0.6769974 , 0.36322147, 0.07648047],\n",
       "       [0.87796234, 0.35838689, 0.18231493],\n",
       "       [0.0705384 , 0.60691597, 0.78839374],\n",
       "       [0.68184207, 0.41627487, 0.10303548],\n",
       "       [0.25112008, 0.62847223, 0.80004639],\n",
       "       [0.78497365, 0.36469868, 0.11112545],\n",
       "       [0.88853026, 0.32291536, 0.1321627 ],\n",
       "       [0.24715523, 0.54733601, 0.91334734],\n",
       "       [0.20861839, 0.98843661, 0.91533249],\n",
       "       [0.14243605, 0.64625066, 0.82264533],\n",
       "       [0.20456265, 0.5222159 , 0.94917632],\n",
       "       [0.25554242, 0.72932346, 0.91460591],\n",
       "       [0.17955601, 0.60521958, 0.95048496]])"
      ]
     },
     "execution_count": 6,
     "metadata": {},
     "output_type": "execute_result"
    }
   ],
   "source": [
    "from sklearn.preprocessing import MinMaxScaler\n",
    "scaler = MinMaxScaler()\n",
    "scaled_data = scaler.fit_transform(data[0])\n",
    "scaled_data"
   ]
  },
  {
   "cell_type": "code",
   "execution_count": 8,
   "metadata": {},
   "outputs": [
    {
     "data": {
      "text/plain": [
       "array([0.87649968, 0.84785217, 0.23982771, 0.84137697, 0.16015085,\n",
       "       0.98487142, 0.92980391, 0.99713171, 0.14313364, 0.16719794,\n",
       "       0.14830987, 0.98162289, 0.72786524, 0.83864921, 0.75523013,\n",
       "       0.69026725, 0.78651904, 0.22094154, 0.90426064, 0.80499209,\n",
       "       0.81983375, 0.19495157, 0.80597248, 0.85303258, 0.14036096,\n",
       "       0.18601685, 0.95652347, 0.24544051, 0.16307767, 0.19300441,\n",
       "       0.44510453, 0.73952811, 0.87136416, 0.38196981, 0.84049455,\n",
       "       0.70666178, 0.93955298, 0.0529159 , 0.87520619, 0.29857782,\n",
       "       1.        , 0.94594811, 0.2602609 , 0.09394537, 0.87776667,\n",
       "       0.21422974, 0.83603725, 0.07638817, 0.75417021, 0.34535566,\n",
       "       0.26992656, 0.6746317 , 0.81711549, 0.26637047, 0.74603931,\n",
       "       0.32904413, 0.86479931, 0.73617815, 0.27661292, 0.72332605,\n",
       "       0.76787563, 0.30971235, 0.90700368, 0.24085769, 0.20749699,\n",
       "       0.22529248, 0.1835061 , 0.8818352 , 0.83572499, 0.32069662,\n",
       "       0.30699637, 0.89068503, 0.83231307, 0.        , 0.88645493,\n",
       "       0.26757242, 0.12775246, 0.79836865, 0.83688697, 0.2855325 ,\n",
       "       0.28469856, 0.36254682, 0.16457696, 0.21418117, 0.14906423,\n",
       "       0.73528577, 0.40558482, 0.6769974 , 0.87796234, 0.0705384 ,\n",
       "       0.68184207, 0.25112008, 0.78497365, 0.88853026, 0.24715523,\n",
       "       0.20861839, 0.14243605, 0.20456265, 0.25554242, 0.17955601])"
      ]
     },
     "execution_count": 8,
     "metadata": {},
     "output_type": "execute_result"
    }
   ],
   "source": [
    "scaled_data[:,0]"
   ]
  },
  {
   "cell_type": "code",
   "execution_count": 9,
   "metadata": {},
   "outputs": [],
   "source": [
    "# data[0] \n",
    "data_x = scaled_data[:,0]\n",
    "data_y = scaled_data[:,1]\n",
    "data_z = scaled_data[:,2]"
   ]
  },
  {
   "cell_type": "markdown",
   "metadata": {},
   "source": [
    "## Plotting of Above Data"
   ]
  },
  {
   "cell_type": "code",
   "execution_count": 10,
   "metadata": {},
   "outputs": [
    {
     "data": {
      "image/png": "[encoded data removed]",
      "text/plain": [
       "<Figure size 432x288 with 1 Axes>"
      ]
     },
     "metadata": {
      "needs_background": "light"
     },
     "output_type": "display_data"
    }
   ],
   "source": [
    "from mpl_toolkits.mplot3d import Axes3D\n",
    "fig = plt.figure()\n",
    "ax = fig.add_subplot(111,projection='3d')"
   ]
  },
  {
   "cell_type": "code",
   "execution_count": 11,
   "metadata": {},
   "outputs": [
    {
     "data": {
      "text/plain": [
       "<mpl_toolkits.mplot3d.art3d.Path3DCollection at 0x2e642ffd390>"
      ]
     },
     "execution_count": 11,
     "metadata": {},
     "output_type": "execute_result"
    },
    {
     "data": {
      "image/png": "[encoded data removed]",
      "text/plain": [
       "<Figure size 432x288 with 1 Axes>"
      ]
     },
     "metadata": {
      "needs_background": "light"
     },
     "output_type": "display_data"
    }
   ],
   "source": [
    "fig = plt.figure()\n",
    "ax = fig.add_subplot(111,projection='3d')\n",
    "ax.scatter(data_x,data_y,data_z,c=data[1]) #c - color"
   ]
  },
  {
   "cell_type": "markdown",
   "metadata": {},
   "source": [
    "### Now we have three Dimensions of Data , These data is highle seperable . We can use Linear Autoencoder to reduce these three dimensions to two dimensions we will still have same level of seperation . We will then plot only on two axes and see if we can seperate our blobs by there specific labels"
   ]
  },
  {
   "cell_type": "markdown",
   "metadata": {},
   "source": [
    "## Linear AutoEncoder\n",
    "\n"
   ]
  },
  {
   "cell_type": "code",
   "execution_count": 12,
   "metadata": {},
   "outputs": [],
   "source": [
    "import tensorflow as tf\n",
    "from tensorflow.contrib.layers import fully_connected"
   ]
  },
  {
   "cell_type": "code",
   "execution_count": 13,
   "metadata": {},
   "outputs": [],
   "source": [
    "num_inputs = 3  # 3 dimensional input\n",
    "num_hidden = 2  # 2 dimensional representation \n",
    "num_outputs = num_inputs # Must be true for an autoencoder!\n",
    "\n",
    "learning_rate = 0.01"
   ]
  },
  {
   "cell_type": "markdown",
   "metadata": {},
   "source": [
    "### Placeholder\n",
    "\n",
    "Notice there is no real label here, just X."
   ]
  },
  {
   "cell_type": "code",
   "execution_count": 14,
   "metadata": {},
   "outputs": [],
   "source": [
    "X = tf.placeholder(tf.float32, shape=[None, num_inputs])"
   ]
  },
  {
   "cell_type": "markdown",
   "metadata": {},
   "source": [
    "### Layers\n",
    "\n",
    "Using the fully_connected layers API, we **do not** provide an activation function!"
   ]
  },
  {
   "cell_type": "code",
   "execution_count": 15,
   "metadata": {},
   "outputs": [
    {
     "name": "stdout",
     "output_type": "stream",
     "text": [
      "WARNING:tensorflow:From C:\\Users\\Lucky_Rathod\\Anaconda3\\lib\\site-packages\\tensorflow_core\\contrib\\layers\\python\\layers\\layers.py:1866: Layer.apply (from tensorflow.python.keras.engine.base_layer) is deprecated and will be removed in a future version.\n",
      "Instructions for updating:\n",
      "Please use `layer.__call__` method instead.\n"
     ]
    }
   ],
   "source": [
    "hidden = fully_connected(X, num_hidden, activation_fn=None)\n",
    "outputs = fully_connected(hidden, num_outputs, activation_fn=None)"
   ]
  },
  {
   "cell_type": "markdown",
   "metadata": {},
   "source": [
    "### Loss Function"
   ]
  },
  {
   "cell_type": "code",
   "execution_count": 16,
   "metadata": {},
   "outputs": [],
   "source": [
    "loss = tf.reduce_mean(tf.square(outputs - X))  # MSE"
   ]
  },
  {
   "cell_type": "markdown",
   "metadata": {},
   "source": [
    "## Optimizer\n"
   ]
  },
  {
   "cell_type": "code",
   "execution_count": 17,
   "metadata": {},
   "outputs": [],
   "source": [
    "optimizer = tf.train.AdamOptimizer(learning_rate)\n",
    "train  = optimizer.minimize( loss)"
   ]
  },
  {
   "cell_type": "markdown",
   "metadata": {},
   "source": [
    "## Init"
   ]
  },
  {
   "cell_type": "code",
   "execution_count": 18,
   "metadata": {},
   "outputs": [],
   "source": [
    "init = tf.global_variables_initializer()"
   ]
  },
  {
   "cell_type": "markdown",
   "metadata": {},
   "source": [
    "## Running Session"
   ]
  },
  {
   "cell_type": "code",
   "execution_count": 19,
   "metadata": {},
   "outputs": [],
   "source": [
    "num_steps = 1000\n",
    "\n",
    "with tf.Session() as sess:\n",
    "    sess.run(init)\n",
    "    \n",
    "    for iteration in range(num_steps):\n",
    "        sess.run(train,feed_dict={X: scaled_data})\n",
    "\n",
    "        \n",
    "    # Now ask for the hidden layer output (the 2 dimensional output)\n",
    "    output_2d = hidden.eval(feed_dict={X: scaled_data}) "
   ]
  },
  {
   "cell_type": "code",
   "execution_count": 20,
   "metadata": {},
   "outputs": [
    {
     "data": {
      "text/plain": [
       "(100, 2)"
      ]
     },
     "execution_count": 20,
     "metadata": {},
     "output_type": "execute_result"
    }
   ],
   "source": [
    "output_2d.shape"
   ]
  },
  {
   "cell_type": "code",
   "execution_count": 21,
   "metadata": {},
   "outputs": [
    {
     "data": {
      "text/plain": [
       "<matplotlib.collections.PathCollection at 0x2e64bfce208>"
      ]
     },
     "execution_count": 21,
     "metadata": {},
     "output_type": "execute_result"
    },
    {
     "data": {
      "image/png": "[encoded data removed]",
      "text/plain": [
       "<Figure size 432x288 with 1 Axes>"
      ]
     },
     "metadata": {
      "needs_background": "light"
     },
     "output_type": "display_data"
    }
   ],
   "source": [
    "plt.scatter(output_2d[:,0],output_2d[:,1],c=data[1])\n",
    "#Here we are able to reduce from 3 dimension to 2 dimension"
   ]
  },
  {
   "cell_type": "markdown",
   "metadata": {},
   "source": [
    " ## Linear Auto Encoder - Exercise"
   ]
  },
  {
   "cell_type": "code",
   "execution_count": 22,
   "metadata": {},
   "outputs": [],
   "source": [
    "import numpy as np\n",
    "import pandas as pd\n",
    "import matplotlib.pyplot as plt\n",
    "%matplotlib inline"
   ]
  },
  {
   "cell_type": "code",
   "execution_count": 24,
   "metadata": {},
   "outputs": [
    {
     "data": {
      "text/html": [
       "<div>\n",
       "<style scoped>\n",
       "    .dataframe tbody tr th:only-of-type {\n",
       "        vertical-align: middle;\n",
       "    }\n",
       "\n",
       "    .dataframe tbody tr th {\n",
       "        vertical-align: top;\n",
       "    }\n",
       "\n",
       "    .dataframe thead th {\n",
       "        text-align: right;\n",
       "    }\n",
       "</style>\n",
       "<table border=\"1\" class=\"dataframe\">\n",
       "  <thead>\n",
       "    <tr style=\"text-align: right;\">\n",
       "      <th></th>\n",
       "      <th>EJWY</th>\n",
       "      <th>VALM</th>\n",
       "      <th>EGXO</th>\n",
       "      <th>HTGR</th>\n",
       "      <th>SKRF</th>\n",
       "      <th>NNSZ</th>\n",
       "      <th>NYLC</th>\n",
       "      <th>GWID</th>\n",
       "      <th>TVUT</th>\n",
       "      <th>CJHI</th>\n",
       "      <th>...</th>\n",
       "      <th>LKKS</th>\n",
       "      <th>UOBF</th>\n",
       "      <th>VBHE</th>\n",
       "      <th>FRWU</th>\n",
       "      <th>NDYZ</th>\n",
       "      <th>QSBO</th>\n",
       "      <th>JDUB</th>\n",
       "      <th>TEVK</th>\n",
       "      <th>EZTM</th>\n",
       "      <th>Label</th>\n",
       "    </tr>\n",
       "  </thead>\n",
       "  <tbody>\n",
       "    <tr>\n",
       "      <th>0</th>\n",
       "      <td>-2.032145</td>\n",
       "      <td>1.019576</td>\n",
       "      <td>-9.658715</td>\n",
       "      <td>-6.210495</td>\n",
       "      <td>3.156823</td>\n",
       "      <td>7.457850</td>\n",
       "      <td>-5.313357</td>\n",
       "      <td>8.508296</td>\n",
       "      <td>3.959194</td>\n",
       "      <td>-5.246654</td>\n",
       "      <td>...</td>\n",
       "      <td>-2.209663</td>\n",
       "      <td>-10.340123</td>\n",
       "      <td>-7.697555</td>\n",
       "      <td>-5.932752</td>\n",
       "      <td>10.872688</td>\n",
       "      <td>0.081321</td>\n",
       "      <td>1.276316</td>\n",
       "      <td>5.281225</td>\n",
       "      <td>-0.516447</td>\n",
       "      <td>0.0</td>\n",
       "    </tr>\n",
       "    <tr>\n",
       "      <th>1</th>\n",
       "      <td>8.306217</td>\n",
       "      <td>6.649376</td>\n",
       "      <td>-0.960333</td>\n",
       "      <td>-4.094799</td>\n",
       "      <td>8.738965</td>\n",
       "      <td>-3.458797</td>\n",
       "      <td>7.016800</td>\n",
       "      <td>6.692765</td>\n",
       "      <td>0.898264</td>\n",
       "      <td>9.337643</td>\n",
       "      <td>...</td>\n",
       "      <td>0.851793</td>\n",
       "      <td>-9.678324</td>\n",
       "      <td>-6.071795</td>\n",
       "      <td>1.428194</td>\n",
       "      <td>-8.082792</td>\n",
       "      <td>-0.557089</td>\n",
       "      <td>-7.817282</td>\n",
       "      <td>-8.686722</td>\n",
       "      <td>-6.953100</td>\n",
       "      <td>1.0</td>\n",
       "    </tr>\n",
       "    <tr>\n",
       "      <th>2</th>\n",
       "      <td>6.570842</td>\n",
       "      <td>6.985462</td>\n",
       "      <td>-1.842621</td>\n",
       "      <td>-1.569599</td>\n",
       "      <td>10.039339</td>\n",
       "      <td>-3.623026</td>\n",
       "      <td>8.957619</td>\n",
       "      <td>7.577283</td>\n",
       "      <td>1.541255</td>\n",
       "      <td>7.161509</td>\n",
       "      <td>...</td>\n",
       "      <td>1.376085</td>\n",
       "      <td>-8.971164</td>\n",
       "      <td>-5.302191</td>\n",
       "      <td>2.898965</td>\n",
       "      <td>-8.746597</td>\n",
       "      <td>-0.520888</td>\n",
       "      <td>-7.350999</td>\n",
       "      <td>-8.925501</td>\n",
       "      <td>-7.051179</td>\n",
       "      <td>1.0</td>\n",
       "    </tr>\n",
       "    <tr>\n",
       "      <th>3</th>\n",
       "      <td>-1.139972</td>\n",
       "      <td>0.579422</td>\n",
       "      <td>-9.526530</td>\n",
       "      <td>-5.744928</td>\n",
       "      <td>4.834355</td>\n",
       "      <td>5.907235</td>\n",
       "      <td>-4.804137</td>\n",
       "      <td>6.798810</td>\n",
       "      <td>5.403670</td>\n",
       "      <td>-7.642857</td>\n",
       "      <td>...</td>\n",
       "      <td>0.270571</td>\n",
       "      <td>-8.640988</td>\n",
       "      <td>-8.105419</td>\n",
       "      <td>-5.079015</td>\n",
       "      <td>9.351282</td>\n",
       "      <td>0.641759</td>\n",
       "      <td>1.898083</td>\n",
       "      <td>3.904671</td>\n",
       "      <td>1.453499</td>\n",
       "      <td>0.0</td>\n",
       "    </tr>\n",
       "    <tr>\n",
       "      <th>4</th>\n",
       "      <td>-1.738104</td>\n",
       "      <td>0.234729</td>\n",
       "      <td>-11.558768</td>\n",
       "      <td>-7.181332</td>\n",
       "      <td>4.189626</td>\n",
       "      <td>7.765274</td>\n",
       "      <td>-2.189083</td>\n",
       "      <td>7.239925</td>\n",
       "      <td>3.135602</td>\n",
       "      <td>-6.211390</td>\n",
       "      <td>...</td>\n",
       "      <td>-0.013973</td>\n",
       "      <td>-9.437110</td>\n",
       "      <td>-6.475267</td>\n",
       "      <td>-5.708377</td>\n",
       "      <td>9.623080</td>\n",
       "      <td>1.802899</td>\n",
       "      <td>1.903705</td>\n",
       "      <td>4.188442</td>\n",
       "      <td>1.522362</td>\n",
       "      <td>0.0</td>\n",
       "    </tr>\n",
       "  </tbody>\n",
       "</table>\n",
       "<p>5 rows × 31 columns</p>\n",
       "</div>"
      ],
      "text/plain": [
       "       EJWY      VALM       EGXO      HTGR       SKRF      NNSZ      NYLC  \\\n",
       "0 -2.032145  1.019576  -9.658715 -6.210495   3.156823  7.457850 -5.313357   \n",
       "1  8.306217  6.649376  -0.960333 -4.094799   8.738965 -3.458797  7.016800   \n",
       "2  6.570842  6.985462  -1.842621 -1.569599  10.039339 -3.623026  8.957619   \n",
       "3 -1.139972  0.579422  -9.526530 -5.744928   4.834355  5.907235 -4.804137   \n",
       "4 -1.738104  0.234729 -11.558768 -7.181332   4.189626  7.765274 -2.189083   \n",
       "\n",
       "       GWID      TVUT      CJHI  ...      LKKS       UOBF      VBHE      FRWU  \\\n",
       "0  8.508296  3.959194 -5.246654  ... -2.209663 -10.340123 -7.697555 -5.932752   \n",
       "1  6.692765  0.898264  9.337643  ...  0.851793  -9.678324 -6.071795  1.428194   \n",
       "2  7.577283  1.541255  7.161509  ...  1.376085  -8.971164 -5.302191  2.898965   \n",
       "3  6.798810  5.403670 -7.642857  ...  0.270571  -8.640988 -8.105419 -5.079015   \n",
       "4  7.239925  3.135602 -6.211390  ... -0.013973  -9.437110 -6.475267 -5.708377   \n",
       "\n",
       "        NDYZ      QSBO      JDUB      TEVK      EZTM  Label  \n",
       "0  10.872688  0.081321  1.276316  5.281225 -0.516447    0.0  \n",
       "1  -8.082792 -0.557089 -7.817282 -8.686722 -6.953100    1.0  \n",
       "2  -8.746597 -0.520888 -7.350999 -8.925501 -7.051179    1.0  \n",
       "3   9.351282  0.641759  1.898083  3.904671  1.453499    0.0  \n",
       "4   9.623080  1.802899  1.903705  4.188442  1.522362    0.0  \n",
       "\n",
       "[5 rows x 31 columns]"
      ]
     },
     "execution_count": 24,
     "metadata": {},
     "output_type": "execute_result"
    }
   ],
   "source": [
    "df = pd.read_csv('anonymized_data.csv')\n",
    "df.head()"
   ]
  },
  {
   "cell_type": "code",
   "execution_count": 25,
   "metadata": {},
   "outputs": [
    {
     "name": "stdout",
     "output_type": "stream",
     "text": [
      "<class 'pandas.core.frame.DataFrame'>\n",
      "RangeIndex: 500 entries, 0 to 499\n",
      "Data columns (total 31 columns):\n",
      "EJWY     500 non-null float64\n",
      "VALM     500 non-null float64\n",
      "EGXO     500 non-null float64\n",
      "HTGR     500 non-null float64\n",
      "SKRF     500 non-null float64\n",
      "NNSZ     500 non-null float64\n",
      "NYLC     500 non-null float64\n",
      "GWID     500 non-null float64\n",
      "TVUT     500 non-null float64\n",
      "CJHI     500 non-null float64\n",
      "NVFW     500 non-null float64\n",
      "VLBG     500 non-null float64\n",
      "IDIX     500 non-null float64\n",
      "UVHN     500 non-null float64\n",
      "IWOT     500 non-null float64\n",
      "LEMB     500 non-null float64\n",
      "QMYY     500 non-null float64\n",
      "XDGR     500 non-null float64\n",
      "ODZS     500 non-null float64\n",
      "LNJS     500 non-null float64\n",
      "WDRT     500 non-null float64\n",
      "LKKS     500 non-null float64\n",
      "UOBF     500 non-null float64\n",
      "VBHE     500 non-null float64\n",
      "FRWU     500 non-null float64\n",
      "NDYZ     500 non-null float64\n",
      "QSBO     500 non-null float64\n",
      "JDUB     500 non-null float64\n",
      "TEVK     500 non-null float64\n",
      "EZTM     500 non-null float64\n",
      "Label    500 non-null float64\n",
      "dtypes: float64(31)\n",
      "memory usage: 121.2 KB\n"
     ]
    }
   ],
   "source": [
    "df.info()"
   ]
  },
  {
   "cell_type": "code",
   "execution_count": 26,
   "metadata": {},
   "outputs": [],
   "source": [
    "# Scaling\n",
    "from sklearn.preprocessing import MinMaxScaler\n",
    "scaler = MinMaxScaler()\n",
    "scaled_data = scaler.fit_transform(df.drop('Label',axis=1))"
   ]
  },
  {
   "cell_type": "markdown",
   "metadata": {},
   "source": [
    "### Linear AutoEncoder\n",
    "\n"
   ]
  },
  {
   "cell_type": "code",
   "execution_count": 33,
   "metadata": {},
   "outputs": [],
   "source": [
    "import tensorflow as tf\n",
    "from tensorflow.contrib.layers import fully_connected\n",
    "\n",
    "num_inputs = 30  # 3 dimensional input\n",
    "num_hidden = 2  # 2 dimensional representation \n",
    "num_outputs = num_inputs # Must be true for an autoencoder!\n",
    "\n",
    "learning_rate = 0.01\n",
    "\n",
    "# Placeholder\n",
    "X = tf.placeholder(tf.float32, shape=[None, num_inputs])\n",
    "\n",
    "# Layers\n",
    "hidden = fully_connected(X, num_hidden, activation_fn=None)\n",
    "outputs = fully_connected(hidden, num_outputs, activation_fn=None)\n",
    "\n",
    "# Loss Function\n",
    "loss = tf.reduce_mean(tf.square(outputs - X))  # MSE\n",
    "\n",
    "# optimizer\n",
    "optimizer = tf.train.AdamOptimizer(learning_rate)\n",
    "train  = optimizer.minimize( loss)\n",
    "\n",
    "init = tf.global_variables_initializer()\n",
    "\n",
    "# Session\n",
    "\n",
    "num_steps = 1000\n",
    "\n",
    "with tf.Session() as sess:\n",
    "    sess.run(init)\n",
    "    \n",
    "    for iteration in range(num_steps):\n",
    "        sess.run(train,feed_dict={X: scaled_data})\n",
    "        \n",
    "    # Now ask for the hidden layer output (the 2 dimensional output)\n",
    "    output_2d = hidden.eval(feed_dict={X: scaled_data})\n",
    "    \n",
    "    "
   ]
  },
  {
   "cell_type": "code",
   "execution_count": 34,
   "metadata": {},
   "outputs": [
    {
     "data": {
      "text/plain": [
       "(500, 2)"
      ]
     },
     "execution_count": 34,
     "metadata": {},
     "output_type": "execute_result"
    }
   ],
   "source": [
    "output_2d.shape"
   ]
  },
  {
   "cell_type": "code",
   "execution_count": 35,
   "metadata": {},
   "outputs": [
    {
     "data": {
      "text/plain": [
       "<matplotlib.collections.PathCollection at 0x2e6561d54a8>"
      ]
     },
     "execution_count": 35,
     "metadata": {},
     "output_type": "execute_result"
    },
    {
     "data": {
      "image/png": "[encoded data removed]",
      "text/plain": [
       "<Figure size 432x288 with 1 Axes>"
      ]
     },
     "metadata": {
      "needs_background": "light"
     },
     "output_type": "display_data"
    }
   ],
   "source": [
    "plt.scatter(output_2d[:,0],output_2d[:,1],c=df['Label'])"
   ]
  },
  {
   "cell_type": "markdown",
   "metadata": {},
   "source": [
    "### Stacked AutoEncoder\n"
   ]
  },
  {
   "cell_type": "code",
   "execution_count": 37,
   "metadata": {},
   "outputs": [],
   "source": [
    "import numpy as np\n",
    "import matplotlib.pyplot as plt\n",
    "%matplotlib inline\n",
    "\n",
    "import tensorflow as tf\n",
    "from tensorflow.examples.tutorials.mnist import input_data"
   ]
  },
  {
   "cell_type": "code",
   "execution_count": 38,
   "metadata": {},
   "outputs": [
    {
     "name": "stdout",
     "output_type": "stream",
     "text": [
      "WARNING:tensorflow:From <ipython-input-38-08d96239cf6e>:1: read_data_sets (from tensorflow.contrib.learn.python.learn.datasets.mnist) is deprecated and will be removed in a future version.\n",
      "Instructions for updating:\n",
      "Please use alternatives such as official/mnist/dataset.py from tensorflow/models.\n",
      "WARNING:tensorflow:From C:\\Users\\Lucky_Rathod\\Anaconda3\\lib\\site-packages\\tensorflow_core\\contrib\\learn\\python\\learn\\datasets\\mnist.py:260: maybe_download (from tensorflow.contrib.learn.python.learn.datasets.base) is deprecated and will be removed in a future version.\n",
      "Instructions for updating:\n",
      "Please write your own downloading logic.\n",
      "WARNING:tensorflow:From C:\\Users\\Lucky_Rathod\\Anaconda3\\lib\\site-packages\\tensorflow_core\\contrib\\learn\\python\\learn\\datasets\\mnist.py:262: extract_images (from tensorflow.contrib.learn.python.learn.datasets.mnist) is deprecated and will be removed in a future version.\n",
      "Instructions for updating:\n",
      "Please use tf.data to implement this functionality.\n",
      "Extracting C:\\Users\\Lucky_Rathod\\Desktop\\Udemy Courses\\Complete Tensorflow\\Original Notes\\Tensorflow-Bootcamp-master\\03-Convolutional-Neural-Networks\\MNIST_data\\train-images-idx3-ubyte.gz\n",
      "WARNING:tensorflow:From C:\\Users\\Lucky_Rathod\\Anaconda3\\lib\\site-packages\\tensorflow_core\\contrib\\learn\\python\\learn\\datasets\\mnist.py:267: extract_labels (from tensorflow.contrib.learn.python.learn.datasets.mnist) is deprecated and will be removed in a future version.\n",
      "Instructions for updating:\n",
      "Please use tf.data to implement this functionality.\n",
      "Extracting C:\\Users\\Lucky_Rathod\\Desktop\\Udemy Courses\\Complete Tensorflow\\Original Notes\\Tensorflow-Bootcamp-master\\03-Convolutional-Neural-Networks\\MNIST_data\\train-labels-idx1-ubyte.gz\n",
      "WARNING:tensorflow:From C:\\Users\\Lucky_Rathod\\Anaconda3\\lib\\site-packages\\tensorflow_core\\contrib\\learn\\python\\learn\\datasets\\mnist.py:110: dense_to_one_hot (from tensorflow.contrib.learn.python.learn.datasets.mnist) is deprecated and will be removed in a future version.\n",
      "Instructions for updating:\n",
      "Please use tf.one_hot on tensors.\n",
      "Extracting C:\\Users\\Lucky_Rathod\\Desktop\\Udemy Courses\\Complete Tensorflow\\Original Notes\\Tensorflow-Bootcamp-master\\03-Convolutional-Neural-Networks\\MNIST_data\\t10k-images-idx3-ubyte.gz\n",
      "Extracting C:\\Users\\Lucky_Rathod\\Desktop\\Udemy Courses\\Complete Tensorflow\\Original Notes\\Tensorflow-Bootcamp-master\\03-Convolutional-Neural-Networks\\MNIST_data\\t10k-labels-idx1-ubyte.gz\n",
      "WARNING:tensorflow:From C:\\Users\\Lucky_Rathod\\Anaconda3\\lib\\site-packages\\tensorflow_core\\contrib\\learn\\python\\learn\\datasets\\mnist.py:290: DataSet.__init__ (from tensorflow.contrib.learn.python.learn.datasets.mnist) is deprecated and will be removed in a future version.\n",
      "Instructions for updating:\n",
      "Please use alternatives such as official/mnist/dataset.py from tensorflow/models.\n"
     ]
    }
   ],
   "source": [
    "mnist = input_data.read_data_sets(r\"C:\\Users\\Lucky_Rathod\\Desktop\\Udemy Courses\\Complete Tensorflow\\Original Notes\\Tensorflow-Bootcamp-master\\03-Convolutional-Neural-Networks\\MNIST_data\",one_hot=True)"
   ]
  },
  {
   "cell_type": "code",
   "execution_count": 39,
   "metadata": {},
   "outputs": [],
   "source": [
    "tf.reset_default_graph() "
   ]
  },
  {
   "cell_type": "code",
   "execution_count": 40,
   "metadata": {},
   "outputs": [],
   "source": [
    "num_inputs = 784 # 28*28\n",
    "neurons_hid1 = 392\n",
    "neurons_hid2 = 196\n",
    "neurons_hid3 = neurons_hid1 # Decoder Begins\n",
    "num_outputs = num_inputs\n",
    "\n",
    "learning_rate = 0.01\n",
    "\n",
    "actf = tf.nn.relu\n",
    "\n",
    "# Placeholder\n",
    "X = tf.placeholder(tf.float32, shape=[None, num_inputs])"
   ]
  },
  {
   "cell_type": "markdown",
   "metadata": {},
   "source": [
    "### Weights\n",
    "\n",
    "Initializer capable of adapting its scale to the shape of weights tensors.\n",
    "\n",
    "With `distribution=\"normal\"`, samples are drawn from a truncated normal\n",
    "distribution centered on zero, with `stddev = sqrt(scale / n)`\n",
    "where n is:\n",
    "  - number of input units in the weight tensor, if mode = \"fan_in\"\n",
    "  - number of output units, if mode = \"fan_out\"\n",
    "  - average of the numbers of input and output units, if mode = \"fan_avg\"\n",
    "\n",
    "With `distribution=\"uniform\"`, samples are drawn from a uniform distribution\n",
    "within [-limit, limit], with `limit = sqrt(3 * scale / n)`.\n"
   ]
  },
  {
   "cell_type": "code",
   "execution_count": 42,
   "metadata": {},
   "outputs": [
    {
     "name": "stdout",
     "output_type": "stream",
     "text": [
      "Epoch 0 Complete. Training Loss: 0.025718387216329575\n",
      "Epoch 1 Complete. Training Loss: 0.023919781669974327\n",
      "Epoch 2 Complete. Training Loss: 0.023241503164172173\n",
      "Epoch 3 Complete. Training Loss: 0.02102839946746826\n",
      "Epoch 4 Complete. Training Loss: 0.022110288962721825\n"
     ]
    }
   ],
   "source": [
    "initializer = tf.variance_scaling_initializer()\n",
    "\n",
    "w1 = tf.Variable(initializer([num_inputs, neurons_hid1]), dtype=tf.float32)\n",
    "w2 = tf.Variable(initializer([neurons_hid1, neurons_hid2]), dtype=tf.float32)\n",
    "w3 = tf.Variable(initializer([neurons_hid2, neurons_hid3]), dtype=tf.float32)\n",
    "w4 = tf.Variable(initializer([neurons_hid3, num_outputs]), dtype=tf.float32)\n",
    "\n",
    "## Biases\n",
    "\n",
    "b1 = tf.Variable(tf.zeros(neurons_hid1))\n",
    "b2 = tf.Variable(tf.zeros(neurons_hid2))\n",
    "b3 = tf.Variable(tf.zeros(neurons_hid3))\n",
    "b4 = tf.Variable(tf.zeros(num_outputs))\n",
    "\n",
    "act_func = tf.nn.relu\n",
    "\n",
    "hid_layer1 = act_func(tf.matmul(X, w1) + b1)\n",
    "hid_layer2 = act_func(tf.matmul(hid_layer1, w2) + b2)\n",
    "hid_layer3 = act_func(tf.matmul(hid_layer2, w3) + b3)\n",
    "output_layer = tf.matmul(hid_layer3, w4) + b4\n",
    "\n",
    "loss = tf.reduce_mean(tf.square(output_layer - X))\n",
    "\n",
    "#tf.train.RMSPropOptimizer\n",
    "optimizer = tf.train.AdamOptimizer(learning_rate)\n",
    "\n",
    "train = optimizer.minimize(loss)\n",
    "\n",
    "init = tf.global_variables_initializer()\n",
    "\n",
    "saver = tf.train.Saver() \n",
    "\n",
    "num_epochs = 5\n",
    "batch_size = 150\n",
    "\n",
    "with tf.Session() as sess:\n",
    "    sess.run(init)\n",
    "    \n",
    "    # Epoch == Entire Training Set\n",
    "    for epoch in range(num_epochs):\n",
    "        \n",
    "        num_batches = mnist.train.num_examples // batch_size\n",
    "        \n",
    "        # 150 batch size\n",
    "        for iteration in range(num_batches):\n",
    "            \n",
    "            X_batch, y_batch = mnist.train.next_batch(batch_size)\n",
    "            sess.run(train, feed_dict={X: X_batch})\n",
    "            \n",
    "        training_loss = loss.eval(feed_dict={X: X_batch})   \n",
    "        \n",
    "        print(\"Epoch {} Complete. Training Loss: {}\".format(epoch,training_loss))\n",
    "     \n",
    "    saver.save(sess, r\"C:\\Users\\Lucky_Rathod\\Desktop\\Udemy Courses\\Complete Tensorflow\\Original Notes\\Tensorflow-Bootcamp-master\\05-Autoencoders\\mnist_model_saved\\stacked_autoencoder.ckpt\")      \n",
    "    "
   ]
  },
  {
   "cell_type": "markdown",
   "metadata": {},
   "source": [
    "## Test Autoencoder output on Test Data"
   ]
  },
  {
   "cell_type": "code",
   "execution_count": 43,
   "metadata": {},
   "outputs": [
    {
     "name": "stdout",
     "output_type": "stream",
     "text": [
      "INFO:tensorflow:Restoring parameters from C:\\Users\\Lucky_Rathod\\Desktop\\Udemy Courses\\Complete Tensorflow\\Original Notes\\Tensorflow-Bootcamp-master\\05-Autoencoders\\mnist_model_saved\\stacked_autoencoder.ckpt\n"
     ]
    }
   ],
   "source": [
    "num_test_images = 10\n",
    "\n",
    "with tf.Session() as sess:\n",
    "    \n",
    "    saver.restore(sess,r\"C:\\Users\\Lucky_Rathod\\Desktop\\Udemy Courses\\Complete Tensorflow\\Original Notes\\Tensorflow-Bootcamp-master\\05-Autoencoders\\mnist_model_saved\\stacked_autoencoder.ckpt\")\n",
    "    \n",
    "    results = output_layer.eval(feed_dict={X:mnist.test.images[:num_test_images]})"
   ]
  },
  {
   "cell_type": "code",
   "execution_count": 44,
   "metadata": {},
   "outputs": [
    {
     "data": {
      "image/png": "[encoded data removed]",
      "text/plain": [
       "<Figure size 1440x288 with 20 Axes>"
      ]
     },
     "metadata": {
      "needs_background": "light"
     },
     "output_type": "display_data"
    }
   ],
   "source": [
    "# Compare original images with their reconstructions\n",
    "# 2 rows,10 columns\n",
    "f, a = plt.subplots(2, 10, figsize=(20, 4))\n",
    "for i in range(num_test_images):\n",
    "    a[0][i].imshow(np.reshape(mnist.test.images[i], (28, 28)))\n",
    "    a[1][i].imshow(np.reshape(results[i], (28, 28)))"
   ]
  },
  {
   "cell_type": "code",
   "execution_count": 45,
   "metadata": {},
   "outputs": [
    {
     "name": "stdout",
     "output_type": "stream",
     "text": [
      "INFO:tensorflow:Restoring parameters from C:\\Users\\Lucky_Rathod\\Desktop\\Udemy Courses\\Complete Tensorflow\\Original Notes\\Tensorflow-Bootcamp-master\\05-Autoencoders\\mnist_model_saved\\stacked_autoencoder.ckpt\n"
     ]
    }
   ],
   "source": [
    "num_test_images = 10\n",
    "\n",
    "with tf.Session() as sess:\n",
    "    \n",
    "    saver.restore(sess,r\"C:\\Users\\Lucky_Rathod\\Desktop\\Udemy Courses\\Complete Tensorflow\\Original Notes\\Tensorflow-Bootcamp-master\\05-Autoencoders\\mnist_model_saved\\stacked_autoencoder.ckpt\")\n",
    "    \n",
    "    results = hid_layer2.eval(feed_dict={X:mnist.test.images[:num_test_images]})"
   ]
  },
  {
   "cell_type": "code",
   "execution_count": 47,
   "metadata": {},
   "outputs": [
    {
     "data": {
      "image/png": "[encoded data removed]",
      "text/plain": [
       "<Figure size 1440x288 with 20 Axes>"
      ]
     },
     "metadata": {
      "needs_background": "light"
     },
     "output_type": "display_data"
    }
   ],
   "source": [
    "# Compare original images with their reconstructions\n",
    "# 2 rows,10 columns\n",
    "f, a = plt.subplots(2, 10, figsize=(20, 4))\n",
    "for i in range(num_test_images):\n",
    "    a[0][i].imshow(np.reshape(mnist.test.images[i], (28, 28)))\n",
    "    a[1][i].imshow(np.reshape(results[i], (14, 14)))"
   ]
  },
  {
   "cell_type": "code",
   "execution_count": null,
   "metadata": {},
   "outputs": [],
   "source": []
  }
 ],
 "metadata": {
  "kernelspec": {
   "display_name": "Python 3",
   "language": "python",
   "name": "python3"
  },
  "language_info": {
   "codemirror_mode": {
    "name": "ipython",
    "version": 3
   },
   "file_extension": ".py",
   "mimetype": "text/x-python",
   "name": "python",
   "nbconvert_exporter": "python",
   "pygments_lexer": "ipython3",
   "version": "3.7.3"
  }
 },
 "nbformat": 4,
 "nbformat_minor": 2
}
